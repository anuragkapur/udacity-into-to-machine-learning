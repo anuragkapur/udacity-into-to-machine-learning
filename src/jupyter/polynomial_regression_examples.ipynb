{
 "cells": [
  {
   "cell_type": "markdown",
   "metadata": {},
   "source": [
    "## Quiz 1\n",
    "In data.csv, you can see data generated for one predictor feature ('Var_X') and one outcome feature ('Var_Y'), following a non-linear trend. Use sklearn's PolynomialFeatures class to extend the predictor feature column into multiple columns with polynomial features.\n",
    "\n",
    "1. Load in the data\n",
    "  * The data is in the file called 'poly_reg_data.csv'. Note that this data has a header line.\n",
    "  * Make sure that you've split out the data into the predictor feature in X and outcome feature in y.\n",
    "  * For X, make sure it is in a 2-d array of 20 rows by 1 column. You might need to use NumPy's reshape function to accomplish this."
   ]
  },
  {
   "cell_type": "code",
   "execution_count": 3,
   "metadata": {},
   "outputs": [
    {
     "name": "stdout",
     "output_type": "stream",
     "text": [
      "      Var_X     Var_Y\n",
      "0  -0.33532   6.66854\n",
      "1   0.02160   3.86398\n",
      "2  -1.19438   5.16161\n",
      "3  -0.65046   8.43823\n",
      "4  -0.28001   5.57201\n",
      "5   1.93258 -11.13270\n",
      "6   1.22620  -5.31226\n",
      "7   0.74727  -4.63725\n",
      "8   3.32853   3.80650\n",
      "9   2.87457  -6.06084\n",
      "10 -1.48662   7.22328\n",
      "11  0.37629   2.38887\n",
      "12  1.43918  -7.13415\n",
      "13  0.24183   2.00412\n",
      "14 -2.79140   4.29794\n",
      "15  1.08176  -5.86553\n",
      "16  2.81555  -5.20711\n",
      "17  0.54924  -3.52863\n",
      "18  2.36449 -10.16202\n",
      "19 -1.01925   5.31123\n"
     ]
    }
   ],
   "source": [
    "import numpy as np\n",
    "import pandas as pd\n",
    "from sklearn.linear_model import LinearRegression\n",
    "from sklearn.preprocessing import PolynomialFeatures\n",
    "\n",
    "train_data = pd.read_csv(\"poly_reg_data.csv\")\n",
    "print(train_data)"
   ]
  },
  {
   "cell_type": "code",
   "execution_count": 45,
   "metadata": {},
   "outputs": [
    {
     "name": "stdout",
     "output_type": "stream",
     "text": [
      "[[-0.33532]\n",
      " [ 0.0216 ]\n",
      " [-1.19438]\n",
      " [-0.65046]\n",
      " [-0.28001]\n",
      " [ 1.93258]\n",
      " [ 1.2262 ]\n",
      " [ 0.74727]\n",
      " [ 3.32853]\n",
      " [ 2.87457]\n",
      " [-1.48662]\n",
      " [ 0.37629]\n",
      " [ 1.43918]\n",
      " [ 0.24183]\n",
      " [-2.7914 ]\n",
      " [ 1.08176]\n",
      " [ 2.81555]\n",
      " [ 0.54924]\n",
      " [ 2.36449]\n",
      " [-1.01925]]\n",
      "(20, 1)\n",
      "[[-0.33532]\n",
      " [ 0.0216 ]\n",
      " [-1.19438]\n",
      " [-0.65046]\n",
      " [-0.28001]\n",
      " [ 1.93258]\n",
      " [ 1.2262 ]\n",
      " [ 0.74727]\n",
      " [ 3.32853]\n",
      " [ 2.87457]\n",
      " [-1.48662]\n",
      " [ 0.37629]\n",
      " [ 1.43918]\n",
      " [ 0.24183]\n",
      " [-2.7914 ]\n",
      " [ 1.08176]\n",
      " [ 2.81555]\n",
      " [ 0.54924]\n",
      " [ 2.36449]\n",
      " [-1.01925]]\n"
     ]
    }
   ],
   "source": [
    "# Unlike LinearRegression.fit, which can take fit_transform() takes numpy array as input\n",
    "X = train_data[['Var_X']].to_numpy()\n",
    "print(X)\n",
    "print(X.shape)\n",
    "\n",
    "# Alternative approach\n",
    "print(train_data['Var_X'].values.reshape(-1, 1))"
   ]
  },
  {
   "cell_type": "code",
   "execution_count": 42,
   "metadata": {},
   "outputs": [
    {
     "name": "stdout",
     "output_type": "stream",
     "text": [
      "[[  6.66854]\n",
      " [  3.86398]\n",
      " [  5.16161]\n",
      " [  8.43823]\n",
      " [  5.57201]\n",
      " [-11.1327 ]\n",
      " [ -5.31226]\n",
      " [ -4.63725]\n",
      " [  3.8065 ]\n",
      " [ -6.06084]\n",
      " [  7.22328]\n",
      " [  2.38887]\n",
      " [ -7.13415]\n",
      " [  2.00412]\n",
      " [  4.29794]\n",
      " [ -5.86553]\n",
      " [ -5.20711]\n",
      " [ -3.52863]\n",
      " [-10.16202]\n",
      " [  5.31123]]\n",
      "(20, 1)\n"
     ]
    }
   ],
   "source": [
    "y = train_data[['Var_Y']].to_numpy()\n",
    "print(y)\n",
    "print(y.shape)"
   ]
  },
  {
   "cell_type": "markdown",
   "metadata": {},
   "source": [
    "2. Create polynomial features\n",
    "  * Create an instance of sklearn's PolynomialFeatures class and assign it to the variable poly_feat. Pay attention to how to set the degree of features, since that will be how the exercise is evaluated.\n",
    "  * Create the polynomial features by using the PolynomialFeatures object's .fit_transform() method. The \"fit\" side of the method considers how many features are needed in the output, and the \"transform\" side applies those considerations to the data provided to the method as an argument. Assign the new feature matrix to the X_poly variable."
   ]
  },
  {
   "cell_type": "code",
   "execution_count": 19,
   "metadata": {},
   "outputs": [
    {
     "name": "stdout",
     "output_type": "stream",
     "text": [
      "(20, 3)\n"
     ]
    }
   ],
   "source": [
    "poly_feat = PolynomialFeatures(degree=3) # degree defaults to 2\n",
    "X_poly = poly_feat.fit_transform(X)\n",
    "print(X_poly.shape)"
   ]
  },
  {
   "cell_type": "markdown",
   "metadata": {},
   "source": [
    "3. Build a polynomial regression model\n",
    "  * Create a polynomial regression model by combining sklearn's LinearRegression class with the polynomial features. Assign the fit model to poly_model."
   ]
  },
  {
   "cell_type": "code",
   "execution_count": 28,
   "metadata": {},
   "outputs": [
    {
     "data": {
      "text/plain": [
       "LinearRegression(copy_X=True, fit_intercept=True, n_jobs=None, normalize=False)"
      ]
     },
     "execution_count": 28,
     "metadata": {},
     "output_type": "execute_result"
    }
   ],
   "source": [
    "poly_model = LinearRegression()\n",
    "poly_model.fit(X_poly, y)"
   ]
  },
  {
   "cell_type": "code",
   "execution_count": 53,
   "metadata": {},
   "outputs": [
    {
     "data": {
      "text/plain": [
       "array([[-5.81934351]])"
      ]
     },
     "execution_count": 53,
     "metadata": {},
     "output_type": "execute_result"
    }
   ],
   "source": [
    "# Predict a value\n",
    "# - Create additional features for the value to be predicted\n",
    "sample = poly_feat.fit_transform([[2.875]])\n",
    "# - Use 3 degree featues, to make prediction\n",
    "poly_model.predict(sample)"
   ]
  }
 ],
 "metadata": {
  "kernelspec": {
   "display_name": "Python [conda env:default37] *",
   "language": "python",
   "name": "conda-env-default37-py"
  },
  "language_info": {
   "codemirror_mode": {
    "name": "ipython",
    "version": 3
   },
   "file_extension": ".py",
   "mimetype": "text/x-python",
   "name": "python",
   "nbconvert_exporter": "python",
   "pygments_lexer": "ipython3",
   "version": "3.7.7"
  }
 },
 "nbformat": 4,
 "nbformat_minor": 4
}
