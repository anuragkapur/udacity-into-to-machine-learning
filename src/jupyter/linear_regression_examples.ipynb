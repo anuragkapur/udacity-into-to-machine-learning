{
 "cells": [
  {
   "cell_type": "markdown",
   "metadata": {
    "collapsed": true
   },
   "source": [
    "## Quiz 1\n",
    "In this quiz, you'll be working with data on the average life expectancy at birth and the average BMI for males across the world. The data comes from Gapminder.    \n",
    "\n",
    "The data file can be found under the \"bmi_and_life_expectancy.csv\" tab in the quiz below. It includes three columns, containing the following data:    \n",
    "* Country – The country the person was born in.\n",
    "* Life expectancy – The average life expectancy at birth for a person in that country.\n",
    "* BMI – The mean BMI of males in that country.    \n",
    "\n",
    "You'll need to complete each of the following steps:\n",
    "1. Load the data\n",
    "The data is in the file called \"bmi_and_life_expectancy.csv\".\n",
    "Use pandas read_csv to load the data into a dataframe (don't forget to import pandas!)\n",
    "Assign the dataframe to the variable bmi_life_data.\n",
    "2. Build a linear regression model\n",
    "Create a regression model using scikit-learn's LinearRegression and assign it to bmi_life_model.\n",
    "Fit the model to the data.\n",
    "3. Predict using the model\n",
    "\n",
    "Predict using a BMI of 21.07931 and assign it to the variable laos_life_exp."
   ]
  },
  {
   "cell_type": "code",
   "execution_count": 1,
   "metadata": {},
   "outputs": [
    {
     "name": "stdout",
     "output_type": "stream",
     "text": [
      "                Country  Life expectancy       BMI\n",
      "0           Afghanistan             52.8  20.62058\n",
      "1               Albania             76.8  26.44657\n",
      "2               Algeria             75.5  24.59620\n",
      "3               Andorra             84.6  27.63048\n",
      "4                Angola             56.7  22.25083\n",
      "..                  ...              ...       ...\n",
      "158             Vanuatu             63.4  26.78926\n",
      "159  West Bank and Gaza             74.1  26.57750\n",
      "160             Vietnam             74.1  20.91630\n",
      "161              Zambia             51.1  20.68321\n",
      "162            Zimbabwe             47.3  22.02660\n",
      "\n",
      "[163 rows x 3 columns]\n"
     ]
    }
   ],
   "source": [
    "import pandas as pd\n",
    "\n",
    "bmi_life_data = pd.read_csv(\"bmi_and_life_expectancy.csv\")\n",
    "print(bmi_life_data)"
   ]
  },
  {
   "cell_type": "code",
   "execution_count": 14,
   "metadata": {},
   "outputs": [
    {
     "name": "stdout",
     "output_type": "stream",
     "text": [
      "<class 'pandas.core.frame.DataFrame'>\n",
      "<class 'pandas.core.series.Series'>\n"
     ]
    }
   ],
   "source": [
    "print(type(bmi_life_data[['BMI']]))\n",
    "print(type(bmi_life_data['BMI']))"
   ]
  },
  {
   "cell_type": "code",
   "execution_count": 18,
   "metadata": {},
   "outputs": [
    {
     "name": "stdout",
     "output_type": "stream",
     "text": [
      "[[60.31564716]]\n"
     ]
    }
   ],
   "source": [
    "from sklearn.linear_model import LinearRegression\n",
    "\n",
    "bmi_life_model = LinearRegression()\n",
    "bmi_life_model.fit(bmi_life_data[['BMI']], bmi_life_data[['Life expectancy']])\n",
    "\n",
    "laos_life_exp = bmi_life_model.predict([[21.07931]])\n",
    "print(laos_life_exp)"
   ]
  },
  {
   "cell_type": "markdown",
   "metadata": {},
   "source": [
    "## Quiz 2\n",
    "In this quiz, you'll be using the Boston house-prices dataset. The dataset consists of 13 features of 506 houses and the median home value in $1000's. You'll fit a model on the 13 features to predict the value of the houses.\n",
    "\n",
    "You'll need to complete each of the following steps:\n",
    "1. Build a linear regression model\n",
    "  * Create a regression model using scikit-learn's LinearRegression and assign it to model.\n",
    "  * Fit the model to the data.\n",
    "2. Predict using the model\n",
    "\n",
    "Predict the value of sample_house."
   ]
  },
  {
   "cell_type": "code",
   "execution_count": 21,
   "metadata": {},
   "outputs": [
    {
     "name": "stdout",
     "output_type": "stream",
     "text": [
      "[[6.3200e-03 1.8000e+01 2.3100e+00 ... 1.5300e+01 3.9690e+02 4.9800e+00]\n",
      " [2.7310e-02 0.0000e+00 7.0700e+00 ... 1.7800e+01 3.9690e+02 9.1400e+00]\n",
      " [2.7290e-02 0.0000e+00 7.0700e+00 ... 1.7800e+01 3.9283e+02 4.0300e+00]\n",
      " ...\n",
      " [6.0760e-02 0.0000e+00 1.1930e+01 ... 2.1000e+01 3.9690e+02 5.6400e+00]\n",
      " [1.0959e-01 0.0000e+00 1.1930e+01 ... 2.1000e+01 3.9345e+02 6.4800e+00]\n",
      " [4.7410e-02 0.0000e+00 1.1930e+01 ... 2.1000e+01 3.9690e+02 7.8800e+00]]\n",
      "[24.  21.6 34.7 33.4 36.2 28.7 22.9 27.1 16.5 18.9 15.  18.9 21.7 20.4\n",
      " 18.2 19.9 23.1 17.5 20.2 18.2 13.6 19.6 15.2 14.5 15.6 13.9 16.6 14.8\n",
      " 18.4 21.  12.7 14.5 13.2 13.1 13.5 18.9 20.  21.  24.7 30.8 34.9 26.6\n",
      " 25.3 24.7 21.2 19.3 20.  16.6 14.4 19.4 19.7 20.5 25.  23.4 18.9 35.4\n",
      " 24.7 31.6 23.3 19.6 18.7 16.  22.2 25.  33.  23.5 19.4 22.  17.4 20.9\n",
      " 24.2 21.7 22.8 23.4 24.1 21.4 20.  20.8 21.2 20.3 28.  23.9 24.8 22.9\n",
      " 23.9 26.6 22.5 22.2 23.6 28.7 22.6 22.  22.9 25.  20.6 28.4 21.4 38.7\n",
      " 43.8 33.2 27.5 26.5 18.6 19.3 20.1 19.5 19.5 20.4 19.8 19.4 21.7 22.8\n",
      " 18.8 18.7 18.5 18.3 21.2 19.2 20.4 19.3 22.  20.3 20.5 17.3 18.8 21.4\n",
      " 15.7 16.2 18.  14.3 19.2 19.6 23.  18.4 15.6 18.1 17.4 17.1 13.3 17.8\n",
      " 14.  14.4 13.4 15.6 11.8 13.8 15.6 14.6 17.8 15.4 21.5 19.6 15.3 19.4\n",
      " 17.  15.6 13.1 41.3 24.3 23.3 27.  50.  50.  50.  22.7 25.  50.  23.8\n",
      " 23.8 22.3 17.4 19.1 23.1 23.6 22.6 29.4 23.2 24.6 29.9 37.2 39.8 36.2\n",
      " 37.9 32.5 26.4 29.6 50.  32.  29.8 34.9 37.  30.5 36.4 31.1 29.1 50.\n",
      " 33.3 30.3 34.6 34.9 32.9 24.1 42.3 48.5 50.  22.6 24.4 22.5 24.4 20.\n",
      " 21.7 19.3 22.4 28.1 23.7 25.  23.3 28.7 21.5 23.  26.7 21.7 27.5 30.1\n",
      " 44.8 50.  37.6 31.6 46.7 31.5 24.3 31.7 41.7 48.3 29.  24.  25.1 31.5\n",
      " 23.7 23.3 22.  20.1 22.2 23.7 17.6 18.5 24.3 20.5 24.5 26.2 24.4 24.8\n",
      " 29.6 42.8 21.9 20.9 44.  50.  36.  30.1 33.8 43.1 48.8 31.  36.5 22.8\n",
      " 30.7 50.  43.5 20.7 21.1 25.2 24.4 35.2 32.4 32.  33.2 33.1 29.1 35.1\n",
      " 45.4 35.4 46.  50.  32.2 22.  20.1 23.2 22.3 24.8 28.5 37.3 27.9 23.9\n",
      " 21.7 28.6 27.1 20.3 22.5 29.  24.8 22.  26.4 33.1 36.1 28.4 33.4 28.2\n",
      " 22.8 20.3 16.1 22.1 19.4 21.6 23.8 16.2 17.8 19.8 23.1 21.  23.8 23.1\n",
      " 20.4 18.5 25.  24.6 23.  22.2 19.3 22.6 19.8 17.1 19.4 22.2 20.7 21.1\n",
      " 19.5 18.5 20.6 19.  18.7 32.7 16.5 23.9 31.2 17.5 17.2 23.1 24.5 26.6\n",
      " 22.9 24.1 18.6 30.1 18.2 20.6 17.8 21.7 22.7 22.6 25.  19.9 20.8 16.8\n",
      " 21.9 27.5 21.9 23.1 50.  50.  50.  50.  50.  13.8 13.8 15.  13.9 13.3\n",
      " 13.1 10.2 10.4 10.9 11.3 12.3  8.8  7.2 10.5  7.4 10.2 11.5 15.1 23.2\n",
      "  9.7 13.8 12.7 13.1 12.5  8.5  5.   6.3  5.6  7.2 12.1  8.3  8.5  5.\n",
      " 11.9 27.9 17.2 27.5 15.  17.2 17.9 16.3  7.   7.2  7.5 10.4  8.8  8.4\n",
      " 16.7 14.2 20.8 13.4 11.7  8.3 10.2 10.9 11.   9.5 14.5 14.1 16.1 14.3\n",
      " 11.7 13.4  9.6  8.7  8.4 12.8 10.5 17.1 18.4 15.4 10.8 11.8 14.9 12.6\n",
      " 14.1 13.  13.4 15.2 16.1 17.8 14.9 14.1 12.7 13.5 14.9 20.  16.4 17.7\n",
      " 19.5 20.2 21.4 19.9 19.  19.1 19.1 20.1 19.9 19.6 23.2 29.8 13.8 13.3\n",
      " 16.7 12.  14.6 21.4 23.  23.7 25.  21.8 20.6 21.2 19.1 20.6 15.2  7.\n",
      "  8.1 13.6 20.1 21.8 24.5 23.1 19.7 18.3 21.2 17.5 16.8 22.4 20.6 23.9\n",
      " 22.  11.9]\n",
      "[23.68284712]\n"
     ]
    }
   ],
   "source": [
    "from sklearn.linear_model import LinearRegression\n",
    "from sklearn.datasets import load_boston\n",
    "\n",
    "# Load the data from the boston house-prices dataset \n",
    "boston_data = load_boston()\n",
    "x = boston_data['data']\n",
    "y = boston_data['target']\n",
    "\n",
    "print(x)\n",
    "print(y)\n",
    "\n",
    "model = LinearRegression()\n",
    "model.fit(x, y)\n",
    "\n",
    "# Make a prediction using the model\n",
    "sample_house = [[2.29690000e-01, 0.00000000e+00, 1.05900000e+01, 0.00000000e+00, 4.89000000e-01,\n",
    "                6.32600000e+00, 5.25000000e+01, 4.35490000e+00, 4.00000000e+00, 2.77000000e+02,\n",
    "                1.86000000e+01, 3.94870000e+02, 1.09700000e+01]]\n",
    "# TODO: Predict housing price for the sample_house\n",
    "prediction = model.predict(sample_house)\n",
    "print(prediction)"
   ]
  },
  {
   "cell_type": "markdown",
   "metadata": {},
   "source": [
    "## Quiz 3\n",
    "In this assignment's data.csv, you'll find data for a bunch of points including six predictor variables and one outcome variable. Use sklearn's Lasso class to fit a linear regression model to the data, while also using L1 regularization to control for model complexity.\n",
    "\n",
    "1. Load in the data\n",
    "  * The data is in the file called 'data.csv'. Note that there's no header row on this file.\n",
    "  * Split the data so that the six predictor features (first six columns) are stored in X, and the outcome feature (last column) is stored in y."
   ]
  },
  {
   "cell_type": "code",
   "execution_count": 26,
   "metadata": {},
   "outputs": [
    {
     "name": "stdout",
     "output_type": "stream",
     "text": [
      "           0        1         2        3        4        5         6\n",
      "0    1.25664  2.04978  -6.23640  4.71926 -4.26931  0.20590  12.31798\n",
      "1   -3.89012 -0.37511   6.14979  4.94585 -3.57844  0.00640  23.67628\n",
      "2    5.09784  0.98120  -0.29939  5.85805  0.28297 -0.20626  -1.53459\n",
      "3    0.39034 -3.06861  -5.63488  6.43941  0.39256 -0.07084 -24.68670\n",
      "4    5.84727 -0.15922  11.41246  7.52165  1.69886  0.29022  17.54122\n",
      "..       ...      ...       ...      ...      ...      ...       ...\n",
      "95  -4.58240 -1.27825   7.55098  8.83930 -3.80318  0.04386  26.14768\n",
      "96 -10.00364  2.66002  -4.26776 -3.73792 -0.72349 -0.24617   0.76214\n",
      "97  -4.32624 -2.30314  -8.16044  4.46366 -3.33569 -0.01655 -10.05262\n",
      "98  -1.90167 -0.15858 -10.43466  4.89762 -0.64606 -0.14519 -19.63970\n",
      "99   2.43213  2.41613   2.49949 -8.03891 -1.64164 -0.63444  12.76193\n",
      "\n",
      "[100 rows x 7 columns]\n"
     ]
    }
   ],
   "source": [
    "import numpy as np\n",
    "import pandas as pd\n",
    "from sklearn.linear_model import Lasso\n",
    "\n",
    "train_data = pd.read_csv('linear_reg_regularisation.csv', header = None)\n",
    "print(train_data)"
   ]
  },
  {
   "cell_type": "code",
   "execution_count": 27,
   "metadata": {},
   "outputs": [
    {
     "name": "stdout",
     "output_type": "stream",
     "text": [
      "           0        1         2        3        4        5\n",
      "0    1.25664  2.04978  -6.23640  4.71926 -4.26931  0.20590\n",
      "1   -3.89012 -0.37511   6.14979  4.94585 -3.57844  0.00640\n",
      "2    5.09784  0.98120  -0.29939  5.85805  0.28297 -0.20626\n",
      "3    0.39034 -3.06861  -5.63488  6.43941  0.39256 -0.07084\n",
      "4    5.84727 -0.15922  11.41246  7.52165  1.69886  0.29022\n",
      "..       ...      ...       ...      ...      ...      ...\n",
      "95  -4.58240 -1.27825   7.55098  8.83930 -3.80318  0.04386\n",
      "96 -10.00364  2.66002  -4.26776 -3.73792 -0.72349 -0.24617\n",
      "97  -4.32624 -2.30314  -8.16044  4.46366 -3.33569 -0.01655\n",
      "98  -1.90167 -0.15858 -10.43466  4.89762 -0.64606 -0.14519\n",
      "99   2.43213  2.41613   2.49949 -8.03891 -1.64164 -0.63444\n",
      "\n",
      "[100 rows x 6 columns]\n"
     ]
    }
   ],
   "source": [
    "X = train_data.iloc[:,:-1]\n",
    "print(X)"
   ]
  },
  {
   "cell_type": "code",
   "execution_count": 28,
   "metadata": {},
   "outputs": [
    {
     "name": "stdout",
     "output_type": "stream",
     "text": [
      "           6\n",
      "0   12.31798\n",
      "1   23.67628\n",
      "2   -1.53459\n",
      "3  -24.68670\n",
      "4   17.54122\n",
      "..       ...\n",
      "95  26.14768\n",
      "96   0.76214\n",
      "97 -10.05262\n",
      "98 -19.63970\n",
      "99  12.76193\n",
      "\n",
      "[100 rows x 1 columns]\n"
     ]
    }
   ],
   "source": [
    "y = train_data.iloc[:,-1:]\n",
    "print(y)"
   ]
  },
  {
   "cell_type": "markdown",
   "metadata": {},
   "source": [
    "2. Fit data using linear regression with Lasso regularization\n",
    "  * Create an instance of sklearn's Lasso class and assign it to the variable lasso_reg. You don't need to set any parameter values: use the default values for the quiz.\n",
    "  * Use the Lasso object's .fit() method to fit the regression model onto the data."
   ]
  },
  {
   "cell_type": "code",
   "execution_count": 29,
   "metadata": {},
   "outputs": [
    {
     "data": {
      "text/plain": [
       "Lasso(alpha=1.0, copy_X=True, fit_intercept=True, max_iter=1000,\n",
       "      normalize=False, positive=False, precompute=False, random_state=None,\n",
       "      selection='cyclic', tol=0.0001, warm_start=False)"
      ]
     },
     "execution_count": 29,
     "metadata": {},
     "output_type": "execute_result"
    }
   ],
   "source": [
    "lasso_reg = Lasso()\n",
    "lasso_reg.fit(X, y)"
   ]
  },
  {
   "cell_type": "markdown",
   "metadata": {},
   "source": [
    "3. Inspect the coefficients of the regression model\n",
    "  * Obtain the coefficients of the fit regression model using the .coef_ attribute of the Lasso object. Store this in the reg_coef variable: the coefficients will be printed out, and you will use your observations to answer the question at the bottom of the page."
   ]
  },
  {
   "cell_type": "code",
   "execution_count": 25,
   "metadata": {},
   "outputs": [
    {
     "name": "stdout",
     "output_type": "stream",
     "text": [
      "[ 0.          2.35793224  2.00441646 -0.05511954 -3.92808318  0.        ]\n"
     ]
    }
   ],
   "source": [
    "reg_coef = lasso_reg.coef_\n",
    "print(reg_coef)"
   ]
  },
  {
   "cell_type": "markdown",
   "metadata": {},
   "source": [
    "4. For which of the predictor features has the lasso regularization step zeroed the corresponding coefficient?\n",
    "Answer: Column 1, 6"
   ]
  },
  {
   "cell_type": "markdown",
   "metadata": {},
   "source": [
    "## Quiz 4 \n",
    "Feature scaling. he only thing different for this quiz compared to the previous one is the addition of a new step after loading the data, where you will use sklearn's StandardScaler to standardize the data before you fit a linear regression model to the data with L1 (Lasso) regularization.\n",
    "\n",
    "1. Load in the data\n",
    "\n",
    "  * The data is in the file called 'data.csv'. Note that there's no header row on this file.\n",
    "  * Split the data so that the six predictor features (first six columns) are stored in X, and the outcome feature (last column) is stored in y."
   ]
  },
  {
   "cell_type": "code",
   "execution_count": 4,
   "metadata": {},
   "outputs": [
    {
     "name": "stdout",
     "output_type": "stream",
     "text": [
      "           0        1         2        3        4        5\n",
      "0    1.25664  2.04978  -6.23640  4.71926 -4.26931  0.20590\n",
      "1   -3.89012 -0.37511   6.14979  4.94585 -3.57844  0.00640\n",
      "2    5.09784  0.98120  -0.29939  5.85805  0.28297 -0.20626\n",
      "3    0.39034 -3.06861  -5.63488  6.43941  0.39256 -0.07084\n",
      "4    5.84727 -0.15922  11.41246  7.52165  1.69886  0.29022\n",
      "..       ...      ...       ...      ...      ...      ...\n",
      "95  -4.58240 -1.27825   7.55098  8.83930 -3.80318  0.04386\n",
      "96 -10.00364  2.66002  -4.26776 -3.73792 -0.72349 -0.24617\n",
      "97  -4.32624 -2.30314  -8.16044  4.46366 -3.33569 -0.01655\n",
      "98  -1.90167 -0.15858 -10.43466  4.89762 -0.64606 -0.14519\n",
      "99   2.43213  2.41613   2.49949 -8.03891 -1.64164 -0.63444\n",
      "\n",
      "[100 rows x 6 columns]\n",
      "           6\n",
      "0   12.31798\n",
      "1   23.67628\n",
      "2   -1.53459\n",
      "3  -24.68670\n",
      "4   17.54122\n",
      "..       ...\n",
      "95  26.14768\n",
      "96   0.76214\n",
      "97 -10.05262\n",
      "98 -19.63970\n",
      "99  12.76193\n",
      "\n",
      "[100 rows x 1 columns]\n"
     ]
    }
   ],
   "source": [
    "import numpy as np\n",
    "import pandas as pd\n",
    "from sklearn.linear_model import Lasso\n",
    "from sklearn.preprocessing import StandardScaler\n",
    "\n",
    "train_data = pd.read_csv('linear_reg_regularisation.csv', header = None)\n",
    "X = train_data.iloc[:, :-1]\n",
    "y = train_data.iloc[:, -1:]\n",
    "\n",
    "print(X)\n",
    "print(y)"
   ]
  },
  {
   "cell_type": "markdown",
   "metadata": {},
   "source": [
    "2. (NEW) Perform feature scaling on data via standardization\n",
    "\n",
    "  * Create an instance of sklearn's StandardScaler and assign it to the variable scaler.\n",
    "  * Compute the scaling parameters by using the .fit_transform() method on the predictor feature array, which also returns the predictor variables in their standardized values. Store those standardized values in X_scaled."
   ]
  },
  {
   "cell_type": "code",
   "execution_count": 3,
   "metadata": {},
   "outputs": [
    {
     "name": "stdout",
     "output_type": "stream",
     "text": [
      "[[ 2.40939098e-01  1.29044717e+00 -1.32657695e+00  3.62755606e-01\n",
      "  -1.29448250e+00  1.07584269e+00]\n",
      " [-6.89385644e-01 -1.12048023e-01  1.17210015e+00  3.90650530e-01\n",
      "  -1.07641127e+00 -1.83941486e-02]\n",
      " [ 9.35271727e-01  6.72407457e-01 -1.28898654e-01  5.02949170e-01\n",
      "   1.42432265e-01 -1.18481222e+00]\n",
      " [ 8.43473152e-02 -1.66990046e+00 -1.20523179e+00  5.74518932e-01\n",
      "   1.77024049e-01 -4.42047548e-01]\n",
      " [ 1.07073817e+00  1.28173054e-02  2.23374324e+00  7.07750768e-01\n",
      "   5.89354080e-01  1.53832915e+00]\n",
      " [-5.03547007e-01 -3.82877792e-01 -2.86704658e-01 -1.35597001e-01\n",
      "  -7.32567225e-01  2.81663911e+00]\n",
      " [-1.26838661e+00  6.30722889e-02  1.29647329e+00  1.38965170e+00\n",
      "   9.37562988e-02 -1.10979200e-01]\n",
      " [-1.28336432e+00  4.68559271e-01 -6.53368701e-01 -8.60174370e-01\n",
      "  -8.00219905e-01 -1.26209441e+00]\n",
      " [ 1.58175014e+00  1.31910564e+00 -2.33513254e+00 -9.56289301e-01\n",
      "  -8.29972817e-01 -5.31231964e-01]\n",
      " [-1.07677452e+00 -2.30532033e+00  4.19813395e-01 -6.63656674e-01\n",
      "   6.74354734e-01  9.18590706e-01]\n",
      " [ 1.58184956e+00  9.62468187e-01 -3.33183454e-01 -4.41234702e-01\n",
      "   8.98858856e-01  2.09942089e-01]\n",
      " [ 8.02348567e-01 -1.45547958e+00 -9.97598253e-01 -2.34038664e-01\n",
      "   1.12826182e+00 -4.83568214e-01]\n",
      " [ 1.81633052e+00 -2.50881102e-01  4.62128466e-01  1.27765593e-01\n",
      "   1.84677602e+00 -3.00043580e-01]\n",
      " [-2.47508686e-01  2.10962717e-01  8.61519311e-01 -5.31927980e-01\n",
      "   3.25794921e-01  9.17109784e-01]\n",
      " [-6.91860239e-01  4.12850213e-01  5.03235169e-01 -8.85951844e-01\n",
      "   3.30162943e-02 -1.30460236e+00]\n",
      " [-2.22730747e+00 -7.87346834e-01 -6.06615551e-01  1.11390572e+00\n",
      "   1.92191586e+00  6.82301369e-01]\n",
      " [ 1.05480243e+00 -3.70645165e-01  1.99863598e+00 -1.76813384e-01\n",
      "   1.35260759e-01 -1.95446605e-01]\n",
      " [-1.27440409e+00  2.00606448e+00 -1.13908031e-01  1.43499218e+00\n",
      "   7.37146446e-01 -5.55530055e-01]\n",
      " [ 1.32020227e+00  8.40147708e-01  1.31590389e-01 -1.31032917e+00\n",
      "  -2.11390913e+00  4.62631267e-01]\n",
      " [-1.85054905e+00  1.39941876e+00 -1.65645940e+00 -6.42187961e-01\n",
      "  -3.99104821e-01 -4.86420360e-01]\n",
      " [-1.47922968e+00  1.35287063e-02 -4.35128158e-01 -7.91436054e-02\n",
      "   1.39197881e+00 -1.41639771e-01]\n",
      " [ 2.43136224e+00 -4.21709874e-01  8.62150729e-01 -1.02513098e-01\n",
      "   1.57248170e+00 -4.60915592e-01]\n",
      " [ 2.84879877e-01 -1.89654349e-01 -6.06458201e-01 -3.76487556e-01\n",
      "  -4.64673818e-03 -8.37741139e-02]\n",
      " [-1.87833718e+00  5.27565065e-01  7.25895636e-01 -4.31798514e-01\n",
      "  -9.78320721e-01  7.62751635e-02]\n",
      " [-1.95706686e-01  1.92510358e+00 -1.02335324e+00  1.45770921e+00\n",
      "  -1.16997859e+00 -8.27526068e-01]\n",
      " [ 8.13242930e-01 -1.10891164e+00  5.49590909e-01 -2.74026434e-01\n",
      "  -6.02539488e-01  1.19788163e+00]\n",
      " [-5.90150596e-01 -7.51881992e-02  8.38971850e-01 -5.04591965e-01\n",
      "  -8.80435346e-01 -9.69927143e-02]\n",
      " [-3.21397666e-01 -6.61492485e-01  1.55800125e+00  1.35149823e+00\n",
      "  -2.27828298e-01 -2.90006219e-01]\n",
      " [ 1.68291935e-01 -1.84292815e-01 -7.78901798e-01 -7.48081319e-01\n",
      "   1.35971334e+00 -2.08939450e-01]\n",
      " [ 7.39301566e-02 -2.94905723e+00 -1.06874874e+00  2.54990766e+00\n",
      "   1.61572853e+00  8.87326797e-01]\n",
      " [ 5.79839687e-04  4.01305853e-01 -3.47133145e-01  7.50083736e-01\n",
      "   1.09992933e+00  3.19914262e-01]\n",
      " [ 5.54791473e-01  1.75438470e+00  1.04454975e+00  8.32808267e-01\n",
      "   1.41294094e+00 -1.01127010e+00]\n",
      " [ 2.68904370e-01 -4.84451968e-01  3.90435326e-01  4.31145503e-01\n",
      "  -1.49357070e+00  1.01649611e+00]\n",
      " [ 7.09380443e-01 -2.78261364e-01 -3.41573442e-01  1.81475043e+00\n",
      "   1.54483677e-01  2.19810734e+00]\n",
      " [ 6.10698518e-01  2.38811462e-01 -5.05959907e-01 -1.25573590e-01\n",
      "   3.49669944e-02 -2.41464886e-01]\n",
      " [-1.09340437e+00 -1.37691315e+00  9.26361549e-02 -6.32211331e-01\n",
      "   3.70010791e-01  2.87608222e-01]\n",
      " [-1.33742943e+00  8.64896364e-01 -7.35923032e-01  3.76458700e-01\n",
      "   3.69089101e-01 -1.14230427e+00]\n",
      " [ 1.07102196e+00 -2.04547500e-01 -1.07926711e-01  1.04664842e+00\n",
      "   2.25855367e+00  1.19190309e+00]\n",
      " [ 1.17856109e+00  3.80715711e-01 -8.61155671e-02  2.59848833e+00\n",
      "  -8.51544151e-01  1.18837960e-01]\n",
      " [ 1.16227287e+00 -1.07754637e+00  3.32683807e-01 -3.96959098e-01\n",
      "  -3.38484762e-01  1.24236414e+00]\n",
      " [ 1.25300862e+00 -4.41906720e-01  9.73713962e-01  1.33387911e-01\n",
      "   1.52027995e+00  1.56646667e+00]\n",
      " [ 3.06182360e-01  8.62964592e-01 -5.05844921e-01  7.75862442e-01\n",
      "  -1.07045459e-03 -6.16960895e-01]\n",
      " [ 7.00922715e-01  6.96444713e-01 -7.04820164e-01  5.32456801e-01\n",
      "   1.05966536e+00 -6.24378669e-02]\n",
      " [-1.21872661e+00  1.36617325e-02 -2.22524166e+00  7.76263772e-01\n",
      "   1.36196391e+00  5.32892790e-01]\n",
      " [-1.15003265e+00  2.59261168e+00  4.63911767e-01 -4.62339017e-01\n",
      "  -2.29703243e-01 -5.01832919e-01]\n",
      " [-4.11522446e-01  8.36116435e-01 -1.44204166e+00  1.89536000e-01\n",
      "  -1.89605570e+00 -3.14797951e-01]\n",
      " [ 1.66517056e+00 -5.97385425e-01  1.67980624e-01 -9.98288648e-01\n",
      "  -2.16057811e-01 -7.86608741e-01]\n",
      " [-5.33885648e-01 -1.76727673e-01 -1.94233357e-02 -2.66023217e-01\n",
      "  -1.43172278e+00 -1.04434402e+00]\n",
      " [ 6.05313698e-01  1.39117113e+00 -4.65186060e-01  1.94070785e+00\n",
      "   5.65655283e-01  5.79404712e-01]\n",
      " [-7.89406996e-01 -1.03118964e+00 -2.37000305e-02  1.66505913e+00\n",
      "  -5.73455748e-01  2.14764630e+00]\n",
      " [-4.58523480e-01 -3.91381000e-02 -8.81425470e-01 -3.15067022e+00\n",
      "  -1.82237100e+00 -3.24012577e-01]\n",
      " [ 6.75300084e-01  1.08717157e+00  8.88980816e-02  9.98867942e-01\n",
      "  -4.56830394e-01 -1.07204275e+00]\n",
      " [ 4.16689559e-01 -2.56852133e+00 -7.41153914e-01 -2.09382698e-01\n",
      "   1.22502296e-01  7.33475452e-01]\n",
      " [-9.67899576e-01  9.12635417e-01 -6.31684648e-01 -1.97757659e-01\n",
      "  -6.98480476e-01 -5.47631804e-01]\n",
      " [-1.04928645e+00 -1.65456774e+00 -2.45886430e-01  2.69527545e-01\n",
      "  -2.66084748e-01  3.92534291e-01]\n",
      " [ 1.06701818e-01 -7.28978351e-02  1.14472123e+00 -1.06255075e+00\n",
      "  -1.08745577e+00 -9.15174713e-01]\n",
      " [ 8.19157374e-01  1.45993989e+00  1.29383453e-01 -7.92268286e-01\n",
      "  -1.14478994e+00  1.98052150e+00]\n",
      " [ 2.34061243e-02  2.63716279e-01  1.33521773e+00  7.05231989e-01\n",
      "  -1.68375450e+00  3.25673404e-01]\n",
      " [ 8.67076665e-01  2.04184165e-01  9.07515971e-01 -3.46150181e-01\n",
      "   1.35108986e+00 -8.63781233e-01]\n",
      " [-2.08423649e+00 -5.63660393e-01 -2.13251202e+00 -1.56860124e-01\n",
      "   1.55626321e-01 -8.51165972e-01]\n",
      " [-1.35167688e+00  3.69599348e-01  2.08504942e+00 -2.08009437e+00\n",
      "   1.15686894e+00  1.06267894e+00]\n",
      " [-3.00040955e-01 -8.02373010e-01  7.35102633e-01 -8.54345231e-01\n",
      "  -3.28538717e-01  1.00931089e+00]\n",
      " [ 3.78856638e-01 -5.46413257e-01  1.66576577e-01 -5.52522630e-01\n",
      "  -1.65069360e+00  6.06848940e-03]\n",
      " [-2.90865612e-01 -5.24949770e-01 -7.85506467e-01  1.68584339e-01\n",
      "   3.14052843e-01  1.86302186e-01]\n",
      " [-5.44944502e-01 -2.98262662e-02 -1.20310958e+00 -5.92259261e-01\n",
      "   2.98598752e-01  5.62004426e-02]\n",
      " [-6.87044812e-01  5.33470271e-01 -6.49707286e-01 -5.72896918e-01\n",
      "   1.11667126e+00 -1.72337420e+00]\n",
      " [-6.34921023e-02 -1.42748156e-01  9.46199886e-01 -6.43998872e-01\n",
      "  -1.27809409e+00  1.33313918e+00]\n",
      " [ 1.51642734e+00  1.43830868e+00 -3.76434556e-01 -1.25198484e+00\n",
      "  -7.85608592e-01 -1.74202285e+00]\n",
      " [ 1.63402934e+00  1.35032052e+00  1.54086018e+00 -5.86928708e-01\n",
      "   7.45810964e-01  5.58726652e-01]\n",
      " [-1.50513245e-01  8.26676260e-02  2.27298393e+00  4.45492448e-01\n",
      "   5.53171434e-01 -1.34996245e+00]\n",
      " [ 3.81929546e-01 -1.79914518e-01  7.99608102e-01  1.97795155e+00\n",
      "  -2.50823202e-01  5.39035874e-01]\n",
      " [-2.98500885e-01  9.06209673e-01  3.11223675e-01 -2.89936845e-01\n",
      "  -4.38267178e-01  3.94947645e-01]\n",
      " [-4.21538319e-01  1.03882412e-01  3.99807743e-01 -3.49253720e-01\n",
      "   9.75163428e-01 -3.62571399e-01]\n",
      " [-2.08540596e-01 -9.45607522e-01 -6.36859046e-01  1.29487248e+00\n",
      "  -3.91257830e-01 -8.98390930e-01]\n",
      " [-6.82733702e-01 -6.17437679e-01 -1.32768042e+00 -1.00894234e-01\n",
      "  -1.10314659e+00  9.71177699e-02]\n",
      " [-1.28481944e+00 -4.21692522e-01 -5.56205019e-01  8.49328084e-02\n",
      "  -1.56023856e+00 -3.50614325e-01]\n",
      " [ 1.04281447e+00 -2.78550551e-01 -7.54780836e-01  5.29091313e-04\n",
      "   1.22194593e+00 -1.68790008e-01]\n",
      " [ 1.06595709e+00  1.12210541e+00  2.35088421e-01 -3.59538119e-01\n",
      "  -1.55541917e-01  7.46913448e-01]\n",
      " [ 1.92477529e-01 -4.27030921e-01  2.34147560e+00 -4.97849344e-02\n",
      "   8.53945406e-01  1.61166222e+00]\n",
      " [ 2.95544675e-01  2.52171919e-01  4.10503514e-01  1.75691823e+00\n",
      "   3.12139484e-02 -2.05433285e+00]\n",
      " [-1.06686345e-01 -1.20826485e+00  1.22323086e+00  7.23323864e-01\n",
      "   5.53970021e-01 -7.00166773e-01]\n",
      " [ 8.42983258e-01 -1.57661439e+00 -8.02088867e-02  6.15522364e-02\n",
      "   7.77546140e-01  7.09287059e-01]\n",
      " [-2.10761409e+00 -1.20566217e+00  2.61248883e-01  5.46593232e-01\n",
      "   2.85818194e-01  1.53667052e-01]\n",
      " [-3.53377602e-01  1.16543724e+00  2.49405262e-01  4.61737711e-01\n",
      "  -1.09823828e+00  2.78832388e-01]\n",
      " [ 8.51318069e-01  8.98621396e-01 -1.94937277e-01  1.43899194e+00\n",
      "   1.22080960e+00 -5.96337684e-01]\n",
      " [-1.56042672e-01 -7.02875199e-01 -1.01467477e+00 -8.70946274e-01\n",
      "  -8.01921243e-01  3.50190891e-01]\n",
      " [ 5.91371733e-01 -7.23245558e-01  7.03842415e-01 -1.42955260e+00\n",
      "  -8.42096828e-01  4.62247324e-01]\n",
      " [-1.07302734e-01 -9.13075040e-02 -1.21404351e-01 -1.04526892e+00\n",
      "   2.18635829e-01 -1.76262631e-02]\n",
      " [ 6.15184963e-01 -1.32616129e-02 -1.93454555e-01 -9.34723333e-01\n",
      "  -9.91148627e-01 -7.88418757e-01]\n",
      " [-5.31018805e-01 -7.05587777e-01  1.37068202e+00 -2.17030630e+00\n",
      "   1.29184602e+00  1.54463678e+00]\n",
      " [ 1.95718540e+00  5.43330462e-02  8.10727508e-01 -1.43600221e+00\n",
      "  -1.73502246e-01  6.23832373e-01]\n",
      " [ 8.71078676e-01 -6.63725011e-01 -6.19667539e-01  9.08371636e-01\n",
      "   3.49512657e-01 -1.03715881e+00]\n",
      " [ 7.30822111e-01 -1.01178516e+00 -4.68671970e-01 -1.75962714e+00\n",
      "   2.37352819e+00 -1.75057929e+00]\n",
      " [ 5.53652690e-01  1.17509610e+00  4.44045309e-01 -5.86004171e-01\n",
      "   1.70512246e-01  8.26718691e-01]\n",
      " [-1.20430744e+00 -5.23422860e-01 -3.82869772e-01 -7.02152382e-01\n",
      "  -9.00996609e-01  5.97011229e-01]\n",
      " [-8.14521694e-01 -6.34401410e-01  1.45476345e+00  8.69963335e-01\n",
      "  -1.14734984e+00  1.87070071e-01]\n",
      " [-1.79446125e+00  1.64339458e+00 -9.29441455e-01 -6.78386483e-01\n",
      "  -1.75254089e-01 -1.40371444e+00]\n",
      " [-7.68218391e-01 -1.22717193e+00 -1.71471525e+00  3.31289335e-01\n",
      "  -9.99787892e-01 -1.44272521e-01]\n",
      " [-3.29954811e-01  1.31874652e-02 -2.17349567e+00  3.84713056e-01\n",
      "  -1.50813520e-01 -8.49849597e-01]\n",
      " [ 4.53419849e-01  1.50233476e+00  4.35721892e-01 -1.20787051e+00\n",
      "  -4.65065631e-01 -3.53333517e+00]]\n"
     ]
    }
   ],
   "source": [
    "scaler = StandardScaler()\n",
    "X_scaled = scaler.fit_transform(X)\n",
    "print(X_scaled)"
   ]
  },
  {
   "cell_type": "markdown",
   "metadata": {},
   "source": [
    "3. Fit data using linear regression with Lasso regularization\n",
    "  * Create an instance of sklearn's Lasso class and assign it to the variable lasso_reg. You don't need to set any parameter values: use the default values for the quiz.\n",
    "  * Use the Lasso object's .fit() method to fit the regression model onto the data. Make sure that you apply the fit to the standardized data from the previous step (X_scaled), not the original data."
   ]
  },
  {
   "cell_type": "code",
   "execution_count": 5,
   "metadata": {},
   "outputs": [
    {
     "data": {
      "text/plain": [
       "Lasso(alpha=1.0, copy_X=True, fit_intercept=True, max_iter=1000,\n",
       "      normalize=False, positive=False, precompute=False, random_state=None,\n",
       "      selection='cyclic', tol=0.0001, warm_start=False)"
      ]
     },
     "execution_count": 5,
     "metadata": {},
     "output_type": "execute_result"
    }
   ],
   "source": [
    "lasso_reg = Lasso()\n",
    "lasso_reg.fit(X_scaled, y)"
   ]
  },
  {
   "cell_type": "markdown",
   "metadata": {},
   "source": [
    "4. Inspect the coefficients of the regression model\n",
    "\n",
    "  * Obtain the coefficients of the fit regression model using the .coef_ attribute of the Lasso object. Store this in the reg_coef variable: the coefficients will be printed out, and you will use your observations to answer the question at the bottom of the page."
   ]
  },
  {
   "cell_type": "code",
   "execution_count": 9,
   "metadata": {},
   "outputs": [
    {
     "name": "stdout",
     "output_type": "stream",
     "text": [
      "[  0.           3.90753617   9.02575748  -0.         -11.78303187\n",
      "   0.45340137]\n"
     ]
    }
   ],
   "source": [
    "reg_coef = lasso_reg.coef_\n",
    "print(reg_coef)\n",
    "\n",
    "# Expected coefficients\n",
    "# [  0.           3.90753617   9.02575748  -0.         -11.78303187\n",
    "#   0.45340137]"
   ]
  }
 ],
 "metadata": {
  "kernelspec": {
   "display_name": "Python 3",
   "language": "python",
   "name": "python3"
  },
  "language_info": {
   "codemirror_mode": {
    "name": "ipython",
    "version": 3
   },
   "file_extension": ".py",
   "mimetype": "text/x-python",
   "name": "python",
   "nbconvert_exporter": "python",
   "pygments_lexer": "ipython3",
   "version": "3.7.7"
  }
 },
 "nbformat": 4,
 "nbformat_minor": 1
}
